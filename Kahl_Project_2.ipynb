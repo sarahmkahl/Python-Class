{
 "cells": [
  {
   "cell_type": "code",
   "execution_count": 1,
   "metadata": {},
   "outputs": [
    {
     "data": {
      "text/html": [
       "<div>\n",
       "<style scoped>\n",
       "    .dataframe tbody tr th:only-of-type {\n",
       "        vertical-align: middle;\n",
       "    }\n",
       "\n",
       "    .dataframe tbody tr th {\n",
       "        vertical-align: top;\n",
       "    }\n",
       "\n",
       "    .dataframe thead th {\n",
       "        text-align: right;\n",
       "    }\n",
       "</style>\n",
       "<table border=\"1\" class=\"dataframe\">\n",
       "  <thead>\n",
       "    <tr style=\"text-align: right;\">\n",
       "      <th></th>\n",
       "      <th>Age</th>\n",
       "      <th>Attrition</th>\n",
       "      <th>BusinessTravel</th>\n",
       "      <th>DailyRate</th>\n",
       "      <th>Department</th>\n",
       "      <th>DistanceFromHome</th>\n",
       "      <th>Education</th>\n",
       "      <th>EducationField</th>\n",
       "      <th>EmployeeCount</th>\n",
       "      <th>EmployeeNumber</th>\n",
       "      <th>...</th>\n",
       "      <th>RelationshipSatisfaction</th>\n",
       "      <th>StandardHours</th>\n",
       "      <th>StockOptionLevel</th>\n",
       "      <th>TotalWorkingYears</th>\n",
       "      <th>TrainingTimesLastYear</th>\n",
       "      <th>WorkLifeBalance</th>\n",
       "      <th>YearsAtCompany</th>\n",
       "      <th>YearsInCurrentRole</th>\n",
       "      <th>YearsSinceLastPromotion</th>\n",
       "      <th>YearsWithCurrManager</th>\n",
       "    </tr>\n",
       "  </thead>\n",
       "  <tbody>\n",
       "    <tr>\n",
       "      <td>0</td>\n",
       "      <td>41</td>\n",
       "      <td>Yes</td>\n",
       "      <td>Travel_Rarely</td>\n",
       "      <td>1102</td>\n",
       "      <td>Sales</td>\n",
       "      <td>1</td>\n",
       "      <td>2</td>\n",
       "      <td>Life Sciences</td>\n",
       "      <td>1</td>\n",
       "      <td>1</td>\n",
       "      <td>...</td>\n",
       "      <td>1</td>\n",
       "      <td>80</td>\n",
       "      <td>0</td>\n",
       "      <td>8</td>\n",
       "      <td>0</td>\n",
       "      <td>1</td>\n",
       "      <td>6</td>\n",
       "      <td>4</td>\n",
       "      <td>0</td>\n",
       "      <td>5</td>\n",
       "    </tr>\n",
       "    <tr>\n",
       "      <td>1</td>\n",
       "      <td>49</td>\n",
       "      <td>No</td>\n",
       "      <td>Travel_Frequently</td>\n",
       "      <td>279</td>\n",
       "      <td>Research &amp; Development</td>\n",
       "      <td>8</td>\n",
       "      <td>1</td>\n",
       "      <td>Life Sciences</td>\n",
       "      <td>1</td>\n",
       "      <td>2</td>\n",
       "      <td>...</td>\n",
       "      <td>4</td>\n",
       "      <td>80</td>\n",
       "      <td>1</td>\n",
       "      <td>10</td>\n",
       "      <td>3</td>\n",
       "      <td>3</td>\n",
       "      <td>10</td>\n",
       "      <td>7</td>\n",
       "      <td>1</td>\n",
       "      <td>7</td>\n",
       "    </tr>\n",
       "    <tr>\n",
       "      <td>2</td>\n",
       "      <td>37</td>\n",
       "      <td>Yes</td>\n",
       "      <td>Travel_Rarely</td>\n",
       "      <td>1373</td>\n",
       "      <td>Research &amp; Development</td>\n",
       "      <td>2</td>\n",
       "      <td>2</td>\n",
       "      <td>Other</td>\n",
       "      <td>1</td>\n",
       "      <td>4</td>\n",
       "      <td>...</td>\n",
       "      <td>2</td>\n",
       "      <td>80</td>\n",
       "      <td>0</td>\n",
       "      <td>7</td>\n",
       "      <td>3</td>\n",
       "      <td>3</td>\n",
       "      <td>0</td>\n",
       "      <td>0</td>\n",
       "      <td>0</td>\n",
       "      <td>0</td>\n",
       "    </tr>\n",
       "    <tr>\n",
       "      <td>3</td>\n",
       "      <td>33</td>\n",
       "      <td>No</td>\n",
       "      <td>Travel_Frequently</td>\n",
       "      <td>1392</td>\n",
       "      <td>Research &amp; Development</td>\n",
       "      <td>3</td>\n",
       "      <td>4</td>\n",
       "      <td>Life Sciences</td>\n",
       "      <td>1</td>\n",
       "      <td>5</td>\n",
       "      <td>...</td>\n",
       "      <td>3</td>\n",
       "      <td>80</td>\n",
       "      <td>0</td>\n",
       "      <td>8</td>\n",
       "      <td>3</td>\n",
       "      <td>3</td>\n",
       "      <td>8</td>\n",
       "      <td>7</td>\n",
       "      <td>3</td>\n",
       "      <td>0</td>\n",
       "    </tr>\n",
       "    <tr>\n",
       "      <td>4</td>\n",
       "      <td>27</td>\n",
       "      <td>No</td>\n",
       "      <td>Travel_Rarely</td>\n",
       "      <td>591</td>\n",
       "      <td>Research &amp; Development</td>\n",
       "      <td>2</td>\n",
       "      <td>1</td>\n",
       "      <td>Medical</td>\n",
       "      <td>1</td>\n",
       "      <td>7</td>\n",
       "      <td>...</td>\n",
       "      <td>4</td>\n",
       "      <td>80</td>\n",
       "      <td>1</td>\n",
       "      <td>6</td>\n",
       "      <td>3</td>\n",
       "      <td>3</td>\n",
       "      <td>2</td>\n",
       "      <td>2</td>\n",
       "      <td>2</td>\n",
       "      <td>2</td>\n",
       "    </tr>\n",
       "  </tbody>\n",
       "</table>\n",
       "<p>5 rows × 35 columns</p>\n",
       "</div>"
      ],
      "text/plain": [
       "   Age Attrition     BusinessTravel  DailyRate              Department  \\\n",
       "0   41       Yes      Travel_Rarely       1102                   Sales   \n",
       "1   49        No  Travel_Frequently        279  Research & Development   \n",
       "2   37       Yes      Travel_Rarely       1373  Research & Development   \n",
       "3   33        No  Travel_Frequently       1392  Research & Development   \n",
       "4   27        No      Travel_Rarely        591  Research & Development   \n",
       "\n",
       "   DistanceFromHome  Education EducationField  EmployeeCount  EmployeeNumber  \\\n",
       "0                 1          2  Life Sciences              1               1   \n",
       "1                 8          1  Life Sciences              1               2   \n",
       "2                 2          2          Other              1               4   \n",
       "3                 3          4  Life Sciences              1               5   \n",
       "4                 2          1        Medical              1               7   \n",
       "\n",
       "   ...  RelationshipSatisfaction StandardHours  StockOptionLevel  \\\n",
       "0  ...                         1            80                 0   \n",
       "1  ...                         4            80                 1   \n",
       "2  ...                         2            80                 0   \n",
       "3  ...                         3            80                 0   \n",
       "4  ...                         4            80                 1   \n",
       "\n",
       "   TotalWorkingYears  TrainingTimesLastYear WorkLifeBalance  YearsAtCompany  \\\n",
       "0                  8                      0               1               6   \n",
       "1                 10                      3               3              10   \n",
       "2                  7                      3               3               0   \n",
       "3                  8                      3               3               8   \n",
       "4                  6                      3               3               2   \n",
       "\n",
       "  YearsInCurrentRole  YearsSinceLastPromotion  YearsWithCurrManager  \n",
       "0                  4                        0                     5  \n",
       "1                  7                        1                     7  \n",
       "2                  0                        0                     0  \n",
       "3                  7                        3                     0  \n",
       "4                  2                        2                     2  \n",
       "\n",
       "[5 rows x 35 columns]"
      ]
     },
     "execution_count": 1,
     "metadata": {},
     "output_type": "execute_result"
    }
   ],
   "source": [
    "# Step 1: Load your data, including testing/training split from Project 1.\n",
    "import pandas as pd\n",
    "import numpy as np\n",
    "employee_data = pd.read_csv(\"Employee_attrition.csv\")\n",
    "employee_data.head()"
   ]
  },
  {
   "cell_type": "code",
   "execution_count": 2,
   "metadata": {},
   "outputs": [
    {
     "name": "stdout",
     "output_type": "stream",
     "text": [
      "      Age  DailyRate              Department  DistanceFromHome  Education  \\\n",
      "0      41       1102                   Sales                 1          2   \n",
      "1      49        279  Research & Development                 8          1   \n",
      "2      37       1373  Research & Development                 2          2   \n",
      "3      33       1392  Research & Development                 3          4   \n",
      "4      27        591  Research & Development                 2          1   \n",
      "...   ...        ...                     ...               ...        ...   \n",
      "1465   36        884  Research & Development                23          2   \n",
      "1466   39        613  Research & Development                 6          1   \n",
      "1467   27        155  Research & Development                 4          3   \n",
      "1468   49       1023                   Sales                 2          3   \n",
      "1469   34        628  Research & Development                 8          3   \n",
      "\n",
      "      EnvironmentSatisfaction  Gender  HourlyRate  JobInvolvement  JobLevel  \\\n",
      "0                           2  Female          94               3         2   \n",
      "1                           3    Male          61               2         2   \n",
      "2                           4    Male          92               2         1   \n",
      "3                           4  Female          56               3         1   \n",
      "4                           1    Male          40               3         1   \n",
      "...                       ...     ...         ...             ...       ...   \n",
      "1465                        3    Male          41               4         2   \n",
      "1466                        4    Male          42               2         3   \n",
      "1467                        2    Male          87               4         2   \n",
      "1468                        4    Male          63               2         2   \n",
      "1469                        2    Male          82               4         2   \n",
      "\n",
      "      ... PerformanceRating  RelationshipSatisfaction StandardHours  \\\n",
      "0     ...                 3                         1            80   \n",
      "1     ...                 4                         4            80   \n",
      "2     ...                 3                         2            80   \n",
      "3     ...                 3                         3            80   \n",
      "4     ...                 3                         4            80   \n",
      "...   ...               ...                       ...           ...   \n",
      "1465  ...                 3                         3            80   \n",
      "1466  ...                 3                         1            80   \n",
      "1467  ...                 4                         2            80   \n",
      "1468  ...                 3                         4            80   \n",
      "1469  ...                 3                         1            80   \n",
      "\n",
      "      TotalWorkingYears  TrainingTimesLastYear  WorkLifeBalance  \\\n",
      "0                     8                      0                1   \n",
      "1                    10                      3                3   \n",
      "2                     7                      3                3   \n",
      "3                     8                      3                3   \n",
      "4                     6                      3                3   \n",
      "...                 ...                    ...              ...   \n",
      "1465                 17                      3                3   \n",
      "1466                  9                      5                3   \n",
      "1467                  6                      0                3   \n",
      "1468                 17                      3                2   \n",
      "1469                  6                      3                4   \n",
      "\n",
      "      YearsAtCompany  YearsInCurrentRole  YearsSinceLastPromotion  \\\n",
      "0                  6                   4                        0   \n",
      "1                 10                   7                        1   \n",
      "2                  0                   0                        0   \n",
      "3                  8                   7                        3   \n",
      "4                  2                   2                        2   \n",
      "...              ...                 ...                      ...   \n",
      "1465               5                   2                        0   \n",
      "1466               7                   7                        1   \n",
      "1467               6                   2                        0   \n",
      "1468               9                   6                        0   \n",
      "1469               4                   3                        1   \n",
      "\n",
      "      YearsWithCurrManager  \n",
      "0                        5  \n",
      "1                        7  \n",
      "2                        0  \n",
      "3                        0  \n",
      "4                        2  \n",
      "...                    ...  \n",
      "1465                     3  \n",
      "1466                     7  \n",
      "1467                     3  \n",
      "1468                     8  \n",
      "1469                     2  \n",
      "\n",
      "[1470 rows x 26 columns]\n",
      "X.shape: (1470, 26)  y.shape: (1470,)\n"
     ]
    }
   ],
   "source": [
    "X = employee_data.drop(['Attrition', 'Over18', 'MonthlyRate','EducationField', 'BusinessTravel', 'EmployeeCount', 'EmployeeNumber', 'OverTime', 'StockOptionLevel'],axis=1)\n",
    "print(X)\n",
    "y = employee_data['Attrition'].values\n",
    "print(\"X.shape: {}  y.shape: {}\".format(X.shape, y.shape))"
   ]
  },
  {
   "cell_type": "code",
   "execution_count": 3,
   "metadata": {},
   "outputs": [],
   "source": [
    "from sklearn.model_selection import train_test_split\n",
    "\n",
    "# split data and labels into a training and a test set\n",
    "X_train, X_test, y_train, y_test = train_test_split(X, y, random_state=0)"
   ]
  },
  {
   "cell_type": "code",
   "execution_count": 4,
   "metadata": {},
   "outputs": [
    {
     "name": "stdout",
     "output_type": "stream",
     "text": [
      "<class 'pandas.core.frame.DataFrame'>\n",
      "Int64Index: 1102 entries, 944 to 684\n",
      "Data columns (total 26 columns):\n",
      "Age                         1102 non-null int64\n",
      "DailyRate                   1102 non-null int64\n",
      "Department                  1102 non-null object\n",
      "DistanceFromHome            1102 non-null int64\n",
      "Education                   1102 non-null int64\n",
      "EnvironmentSatisfaction     1102 non-null int64\n",
      "Gender                      1102 non-null object\n",
      "HourlyRate                  1102 non-null int64\n",
      "JobInvolvement              1102 non-null int64\n",
      "JobLevel                    1102 non-null int64\n",
      "JobRole                     1102 non-null object\n",
      "JobSatisfaction             1102 non-null int64\n",
      "MaritalStatus               1102 non-null object\n",
      "MonthlyIncome               1102 non-null int64\n",
      "NumCompaniesWorked          1102 non-null int64\n",
      "PercentSalaryHike           1102 non-null int64\n",
      "PerformanceRating           1102 non-null int64\n",
      "RelationshipSatisfaction    1102 non-null int64\n",
      "StandardHours               1102 non-null int64\n",
      "TotalWorkingYears           1102 non-null int64\n",
      "TrainingTimesLastYear       1102 non-null int64\n",
      "WorkLifeBalance             1102 non-null int64\n",
      "YearsAtCompany              1102 non-null int64\n",
      "YearsInCurrentRole          1102 non-null int64\n",
      "YearsSinceLastPromotion     1102 non-null int64\n",
      "YearsWithCurrManager        1102 non-null int64\n",
      "dtypes: int64(22), object(4)\n",
      "memory usage: 232.5+ KB\n",
      "['No' 'No' 'No' ... 'No' 'No' 'No']\n"
     ]
    }
   ],
   "source": [
    "X_train.info()\n",
    "print(y_train)"
   ]
  },
  {
   "cell_type": "code",
   "execution_count": 5,
   "metadata": {},
   "outputs": [],
   "source": [
    "# Step 2: (If not already done in Project 1) Prepare your data"
   ]
  },
  {
   "cell_type": "code",
   "execution_count": 6,
   "metadata": {},
   "outputs": [
    {
     "name": "stdout",
     "output_type": "stream",
     "text": [
      "[[0.]\n",
      " [0.]\n",
      " [0.]\n",
      " ...\n",
      " [0.]\n",
      " [0.]\n",
      " [0.]]\n"
     ]
    }
   ],
   "source": [
    "from sklearn.preprocessing import OrdinalEncoder\n",
    "ordinal_encoder = OrdinalEncoder()\n",
    "y_train = ordinal_encoder.fit_transform(y_train.reshape(-1, 1))\n",
    "print(y_train)"
   ]
  },
  {
   "cell_type": "code",
   "execution_count": 7,
   "metadata": {},
   "outputs": [
    {
     "name": "stdout",
     "output_type": "stream",
     "text": [
      "[[0.]\n",
      " [0.]\n",
      " [1.]\n",
      " [0.]\n",
      " [1.]\n",
      " [0.]\n",
      " [1.]\n",
      " [0.]\n",
      " [0.]\n",
      " [1.]\n",
      " [0.]\n",
      " [1.]\n",
      " [0.]\n",
      " [1.]\n",
      " [0.]\n",
      " [0.]\n",
      " [0.]\n",
      " [1.]\n",
      " [0.]\n",
      " [0.]\n",
      " [0.]\n",
      " [0.]\n",
      " [0.]\n",
      " [0.]\n",
      " [0.]\n",
      " [0.]\n",
      " [0.]\n",
      " [0.]\n",
      " [0.]\n",
      " [0.]\n",
      " [0.]\n",
      " [0.]\n",
      " [0.]\n",
      " [1.]\n",
      " [0.]\n",
      " [0.]\n",
      " [0.]\n",
      " [0.]\n",
      " [1.]\n",
      " [0.]\n",
      " [0.]\n",
      " [0.]\n",
      " [0.]\n",
      " [0.]\n",
      " [0.]\n",
      " [1.]\n",
      " [0.]\n",
      " [0.]\n",
      " [1.]\n",
      " [1.]\n",
      " [0.]\n",
      " [1.]\n",
      " [0.]\n",
      " [0.]\n",
      " [1.]\n",
      " [0.]\n",
      " [0.]\n",
      " [1.]\n",
      " [0.]\n",
      " [0.]\n",
      " [0.]\n",
      " [0.]\n",
      " [0.]\n",
      " [0.]\n",
      " [0.]\n",
      " [0.]\n",
      " [1.]\n",
      " [1.]\n",
      " [0.]\n",
      " [1.]\n",
      " [0.]\n",
      " [0.]\n",
      " [0.]\n",
      " [0.]\n",
      " [0.]\n",
      " [0.]\n",
      " [0.]\n",
      " [0.]\n",
      " [1.]\n",
      " [0.]\n",
      " [0.]\n",
      " [0.]\n",
      " [0.]\n",
      " [0.]\n",
      " [0.]\n",
      " [0.]\n",
      " [0.]\n",
      " [0.]\n",
      " [0.]\n",
      " [0.]\n",
      " [0.]\n",
      " [0.]\n",
      " [0.]\n",
      " [0.]\n",
      " [0.]\n",
      " [0.]\n",
      " [0.]\n",
      " [0.]\n",
      " [0.]\n",
      " [0.]\n",
      " [1.]\n",
      " [1.]\n",
      " [0.]\n",
      " [0.]\n",
      " [0.]\n",
      " [0.]\n",
      " [0.]\n",
      " [0.]\n",
      " [0.]\n",
      " [0.]\n",
      " [0.]\n",
      " [0.]\n",
      " [0.]\n",
      " [0.]\n",
      " [0.]\n",
      " [0.]\n",
      " [0.]\n",
      " [0.]\n",
      " [0.]\n",
      " [0.]\n",
      " [0.]\n",
      " [0.]\n",
      " [0.]\n",
      " [1.]\n",
      " [0.]\n",
      " [0.]\n",
      " [0.]\n",
      " [0.]\n",
      " [0.]\n",
      " [0.]\n",
      " [0.]\n",
      " [1.]\n",
      " [1.]\n",
      " [0.]\n",
      " [0.]\n",
      " [0.]\n",
      " [1.]\n",
      " [0.]\n",
      " [0.]\n",
      " [0.]\n",
      " [0.]\n",
      " [0.]\n",
      " [0.]\n",
      " [0.]\n",
      " [0.]\n",
      " [1.]\n",
      " [0.]\n",
      " [0.]\n",
      " [1.]\n",
      " [0.]\n",
      " [0.]\n",
      " [0.]\n",
      " [0.]\n",
      " [1.]\n",
      " [0.]\n",
      " [0.]\n",
      " [0.]\n",
      " [0.]\n",
      " [0.]\n",
      " [0.]\n",
      " [1.]\n",
      " [0.]\n",
      " [0.]\n",
      " [1.]\n",
      " [0.]\n",
      " [0.]\n",
      " [0.]\n",
      " [0.]\n",
      " [0.]\n",
      " [0.]\n",
      " [0.]\n",
      " [1.]\n",
      " [0.]\n",
      " [0.]\n",
      " [1.]\n",
      " [0.]\n",
      " [0.]\n",
      " [0.]\n",
      " [0.]\n",
      " [0.]\n",
      " [0.]\n",
      " [0.]\n",
      " [0.]\n",
      " [1.]\n",
      " [0.]\n",
      " [0.]\n",
      " [0.]\n",
      " [0.]\n",
      " [1.]\n",
      " [0.]\n",
      " [0.]\n",
      " [1.]\n",
      " [0.]\n",
      " [0.]\n",
      " [0.]\n",
      " [0.]\n",
      " [0.]\n",
      " [0.]\n",
      " [1.]\n",
      " [0.]\n",
      " [0.]\n",
      " [0.]\n",
      " [1.]\n",
      " [0.]\n",
      " [0.]\n",
      " [0.]\n",
      " [0.]\n",
      " [0.]\n",
      " [0.]\n",
      " [0.]\n",
      " [0.]\n",
      " [0.]\n",
      " [0.]\n",
      " [1.]\n",
      " [1.]\n",
      " [0.]\n",
      " [0.]\n",
      " [0.]\n",
      " [0.]\n",
      " [0.]\n",
      " [0.]\n",
      " [0.]\n",
      " [0.]\n",
      " [0.]\n",
      " [0.]\n",
      " [0.]\n",
      " [0.]\n",
      " [0.]\n",
      " [1.]\n",
      " [0.]\n",
      " [0.]\n",
      " [0.]\n",
      " [0.]\n",
      " [0.]\n",
      " [0.]\n",
      " [0.]\n",
      " [0.]\n",
      " [0.]\n",
      " [0.]\n",
      " [0.]\n",
      " [1.]\n",
      " [0.]\n",
      " [0.]\n",
      " [0.]\n",
      " [0.]\n",
      " [0.]\n",
      " [0.]\n",
      " [0.]\n",
      " [0.]\n",
      " [0.]\n",
      " [0.]\n",
      " [0.]\n",
      " [1.]\n",
      " [0.]\n",
      " [0.]\n",
      " [0.]\n",
      " [0.]\n",
      " [1.]\n",
      " [0.]\n",
      " [1.]\n",
      " [0.]\n",
      " [0.]\n",
      " [0.]\n",
      " [0.]\n",
      " [0.]\n",
      " [0.]\n",
      " [0.]\n",
      " [1.]\n",
      " [1.]\n",
      " [0.]\n",
      " [0.]\n",
      " [0.]\n",
      " [0.]\n",
      " [0.]\n",
      " [0.]\n",
      " [0.]\n",
      " [0.]\n",
      " [0.]\n",
      " [0.]\n",
      " [0.]\n",
      " [1.]\n",
      " [0.]\n",
      " [0.]\n",
      " [0.]\n",
      " [0.]\n",
      " [0.]\n",
      " [0.]\n",
      " [1.]\n",
      " [0.]\n",
      " [0.]\n",
      " [0.]\n",
      " [1.]\n",
      " [0.]\n",
      " [0.]\n",
      " [0.]\n",
      " [0.]\n",
      " [0.]\n",
      " [0.]\n",
      " [1.]\n",
      " [0.]\n",
      " [0.]\n",
      " [0.]\n",
      " [0.]\n",
      " [0.]\n",
      " [0.]\n",
      " [0.]\n",
      " [0.]\n",
      " [1.]\n",
      " [0.]\n",
      " [0.]\n",
      " [0.]\n",
      " [0.]\n",
      " [0.]\n",
      " [0.]\n",
      " [0.]\n",
      " [0.]\n",
      " [0.]\n",
      " [0.]\n",
      " [0.]\n",
      " [0.]\n",
      " [1.]\n",
      " [0.]\n",
      " [0.]\n",
      " [1.]\n",
      " [0.]\n",
      " [0.]\n",
      " [0.]\n",
      " [0.]\n",
      " [0.]\n",
      " [0.]\n",
      " [0.]\n",
      " [0.]\n",
      " [0.]\n",
      " [1.]\n",
      " [0.]\n",
      " [0.]\n",
      " [0.]\n",
      " [0.]\n",
      " [0.]\n",
      " [0.]\n",
      " [0.]\n",
      " [1.]\n",
      " [0.]\n",
      " [0.]\n",
      " [0.]\n",
      " [0.]\n",
      " [0.]\n",
      " [0.]\n",
      " [0.]\n",
      " [0.]\n",
      " [0.]\n",
      " [0.]\n",
      " [0.]\n",
      " [0.]\n",
      " [0.]\n",
      " [0.]\n",
      " [0.]\n",
      " [0.]\n",
      " [0.]\n",
      " [0.]\n",
      " [0.]\n",
      " [1.]\n",
      " [0.]\n",
      " [0.]\n",
      " [1.]\n",
      " [0.]\n",
      " [0.]\n",
      " [1.]]\n"
     ]
    }
   ],
   "source": [
    "y_test = ordinal_encoder.fit_transform(y_test.reshape(-1, 1))\n",
    "print(y_test)"
   ]
  },
  {
   "cell_type": "code",
   "execution_count": 8,
   "metadata": {},
   "outputs": [
    {
     "name": "stdout",
     "output_type": "stream",
     "text": [
      "[923 179]\n",
      "[[  0. 923.]\n",
      " [  1. 179.]]\n"
     ]
    }
   ],
   "source": [
    "# Step 3: evaluate your target variable\n",
    "# evaluating the frequencies of yes and no for my target attribute of attrition \n",
    "unqine, commacounts = np.unique(y_train, return_counts=True) #np array for ordinal variable\n",
    "print(commacounts)\n",
    "frequencies = np.asarray((unqine, commacounts)).T # T is for transpose, so we an change rows to columns\n",
    "# 0 is no, 1 is yes\n",
    "print(frequencies)"
   ]
  },
  {
   "cell_type": "code",
   "execution_count": 9,
   "metadata": {},
   "outputs": [
    {
     "name": "stdout",
     "output_type": "stream",
     "text": [
      "      Human Resources  Research & Development  Sales\n",
      "0                 0.0                     0.0    1.0\n",
      "1                 0.0                     1.0    0.0\n",
      "2                 0.0                     1.0    0.0\n",
      "3                 0.0                     1.0    0.0\n",
      "4                 0.0                     1.0    0.0\n",
      "...               ...                     ...    ...\n",
      "1465              0.0                     1.0    0.0\n",
      "1466              0.0                     1.0    0.0\n",
      "1467              0.0                     1.0    0.0\n",
      "1468              0.0                     0.0    1.0\n",
      "1469              0.0                     1.0    0.0\n",
      "\n",
      "[1470 rows x 3 columns]\n"
     ]
    },
    {
     "name": "stderr",
     "output_type": "stream",
     "text": [
      "C:\\Users\\sarah\\Anaconda3\\lib\\site-packages\\sklearn\\preprocessing\\_encoders.py:415: FutureWarning: The handling of integer data will change in version 0.22. Currently, the categories are determined based on the range [0, max(values)], while in the future they will be determined based on the unique values.\n",
      "If you want the future behaviour and silence this warning, you can specify \"categories='auto'\".\n",
      "In case you used a LabelEncoder before this OneHotEncoder to convert the categories to integers, then you can now use the OneHotEncoder directly.\n",
      "  warnings.warn(msg, FutureWarning)\n"
     ]
    }
   ],
   "source": [
    "# Do the Encoding for the Labels of \"Type\" \n",
    "# finishing cleaning the data set for step 2\n",
    "from sklearn.preprocessing import OneHotEncoder, LabelEncoder\n",
    "type_le = LabelEncoder()\n",
    "type_labels = type_le.fit_transform(X['Department'])\n",
    "X['Department_labels'] = type_labels\n",
    "type_creation = OneHotEncoder()\n",
    "label_feature_arr = type_creation.fit_transform(\n",
    "                              X[['Department_labels']]).toarray()\n",
    "gen_feature_labels = list(type_le.classes_)\n",
    "department_ohe = pd.DataFrame(label_feature_arr, \n",
    "                            columns=gen_feature_labels)\n",
    "print(department_ohe)\n"
   ]
  },
  {
   "cell_type": "code",
   "execution_count": 10,
   "metadata": {},
   "outputs": [
    {
     "name": "stdout",
     "output_type": "stream",
     "text": [
      "      Female  Male\n",
      "0        1.0   0.0\n",
      "1        0.0   1.0\n",
      "2        0.0   1.0\n",
      "3        1.0   0.0\n",
      "4        0.0   1.0\n",
      "...      ...   ...\n",
      "1465     0.0   1.0\n",
      "1466     0.0   1.0\n",
      "1467     0.0   1.0\n",
      "1468     0.0   1.0\n",
      "1469     0.0   1.0\n",
      "\n",
      "[1470 rows x 2 columns]\n"
     ]
    },
    {
     "name": "stderr",
     "output_type": "stream",
     "text": [
      "C:\\Users\\sarah\\Anaconda3\\lib\\site-packages\\sklearn\\preprocessing\\_encoders.py:415: FutureWarning: The handling of integer data will change in version 0.22. Currently, the categories are determined based on the range [0, max(values)], while in the future they will be determined based on the unique values.\n",
      "If you want the future behaviour and silence this warning, you can specify \"categories='auto'\".\n",
      "In case you used a LabelEncoder before this OneHotEncoder to convert the categories to integers, then you can now use the OneHotEncoder directly.\n",
      "  warnings.warn(msg, FutureWarning)\n"
     ]
    }
   ],
   "source": [
    "# Do the Encoding for the Labels of \"Type\" \n",
    "from sklearn.preprocessing import OneHotEncoder, LabelEncoder\n",
    "type_le = LabelEncoder()\n",
    "type_labels = type_le.fit_transform(X['Gender'])\n",
    "X['Gender_labels'] = type_labels\n",
    "type_creation = OneHotEncoder()\n",
    "label_feature_arr = type_creation.fit_transform(\n",
    "                              X[['Gender_labels']]).toarray()\n",
    "gen_feature_labels = list(type_le.classes_)\n",
    "gender_ohe = pd.DataFrame(label_feature_arr, \n",
    "                            columns=gen_feature_labels)\n",
    "print(gender_ohe)"
   ]
  },
  {
   "cell_type": "code",
   "execution_count": 11,
   "metadata": {},
   "outputs": [
    {
     "name": "stdout",
     "output_type": "stream",
     "text": [
      "      Healthcare Representative  Human Resources  Laboratory Technician  \\\n",
      "0                           0.0              0.0                    0.0   \n",
      "1                           0.0              0.0                    0.0   \n",
      "2                           0.0              0.0                    1.0   \n",
      "3                           0.0              0.0                    0.0   \n",
      "4                           0.0              0.0                    1.0   \n",
      "...                         ...              ...                    ...   \n",
      "1465                        0.0              0.0                    1.0   \n",
      "1466                        1.0              0.0                    0.0   \n",
      "1467                        0.0              0.0                    0.0   \n",
      "1468                        0.0              0.0                    0.0   \n",
      "1469                        0.0              0.0                    1.0   \n",
      "\n",
      "      Manager  Manufacturing Director  Research Director  Research Scientist  \\\n",
      "0         0.0                     0.0                0.0                 0.0   \n",
      "1         0.0                     0.0                0.0                 1.0   \n",
      "2         0.0                     0.0                0.0                 0.0   \n",
      "3         0.0                     0.0                0.0                 1.0   \n",
      "4         0.0                     0.0                0.0                 0.0   \n",
      "...       ...                     ...                ...                 ...   \n",
      "1465      0.0                     0.0                0.0                 0.0   \n",
      "1466      0.0                     0.0                0.0                 0.0   \n",
      "1467      0.0                     1.0                0.0                 0.0   \n",
      "1468      0.0                     0.0                0.0                 0.0   \n",
      "1469      0.0                     0.0                0.0                 0.0   \n",
      "\n",
      "      Sales Executive  Sales Representative  \n",
      "0                 1.0                   0.0  \n",
      "1                 0.0                   0.0  \n",
      "2                 0.0                   0.0  \n",
      "3                 0.0                   0.0  \n",
      "4                 0.0                   0.0  \n",
      "...               ...                   ...  \n",
      "1465              0.0                   0.0  \n",
      "1466              0.0                   0.0  \n",
      "1467              0.0                   0.0  \n",
      "1468              1.0                   0.0  \n",
      "1469              0.0                   0.0  \n",
      "\n",
      "[1470 rows x 9 columns]\n"
     ]
    },
    {
     "name": "stderr",
     "output_type": "stream",
     "text": [
      "C:\\Users\\sarah\\Anaconda3\\lib\\site-packages\\sklearn\\preprocessing\\_encoders.py:415: FutureWarning: The handling of integer data will change in version 0.22. Currently, the categories are determined based on the range [0, max(values)], while in the future they will be determined based on the unique values.\n",
      "If you want the future behaviour and silence this warning, you can specify \"categories='auto'\".\n",
      "In case you used a LabelEncoder before this OneHotEncoder to convert the categories to integers, then you can now use the OneHotEncoder directly.\n",
      "  warnings.warn(msg, FutureWarning)\n"
     ]
    }
   ],
   "source": [
    "# Do the Encoding for the Labels of \"Type\" \n",
    "from sklearn.preprocessing import OneHotEncoder, LabelEncoder\n",
    "type_le = LabelEncoder()\n",
    "type_labels = type_le.fit_transform(X['JobRole'])\n",
    "X['JobRole'] = type_labels\n",
    "type_creation = OneHotEncoder()\n",
    "label_feature_arr = type_creation.fit_transform(\n",
    "                              X[['JobRole']]).toarray()\n",
    "gen_feature_labels = list(type_le.classes_)\n",
    "jobrole_ohe = pd.DataFrame(label_feature_arr, \n",
    "                            columns=gen_feature_labels)\n",
    "print(jobrole_ohe)"
   ]
  },
  {
   "cell_type": "code",
   "execution_count": 12,
   "metadata": {},
   "outputs": [
    {
     "name": "stdout",
     "output_type": "stream",
     "text": [
      "      Divorced  Married  Single\n",
      "0          0.0      0.0     1.0\n",
      "1          0.0      1.0     0.0\n",
      "2          0.0      0.0     1.0\n",
      "3          0.0      1.0     0.0\n",
      "4          0.0      1.0     0.0\n",
      "...        ...      ...     ...\n",
      "1465       0.0      1.0     0.0\n",
      "1466       0.0      1.0     0.0\n",
      "1467       0.0      1.0     0.0\n",
      "1468       0.0      1.0     0.0\n",
      "1469       0.0      1.0     0.0\n",
      "\n",
      "[1470 rows x 3 columns]\n"
     ]
    },
    {
     "name": "stderr",
     "output_type": "stream",
     "text": [
      "C:\\Users\\sarah\\Anaconda3\\lib\\site-packages\\sklearn\\preprocessing\\_encoders.py:415: FutureWarning: The handling of integer data will change in version 0.22. Currently, the categories are determined based on the range [0, max(values)], while in the future they will be determined based on the unique values.\n",
      "If you want the future behaviour and silence this warning, you can specify \"categories='auto'\".\n",
      "In case you used a LabelEncoder before this OneHotEncoder to convert the categories to integers, then you can now use the OneHotEncoder directly.\n",
      "  warnings.warn(msg, FutureWarning)\n"
     ]
    }
   ],
   "source": [
    "# Do the Encoding for the Labels of \"Type\" \n",
    "from sklearn.preprocessing import OneHotEncoder, LabelEncoder\n",
    "type_le = LabelEncoder()\n",
    "type_labels = type_le.fit_transform(X['MaritalStatus'])\n",
    "X['MaritalStatus'] = type_labels\n",
    "type_creation = OneHotEncoder()\n",
    "label_feature_arr = type_creation.fit_transform(\n",
    "                              X[['MaritalStatus']]).toarray()\n",
    "gen_feature_labels = list(type_le.classes_)\n",
    "MaritalStatus_ohe = pd.DataFrame(label_feature_arr, \n",
    "                            columns=gen_feature_labels)\n",
    "print(MaritalStatus_ohe)"
   ]
  },
  {
   "cell_type": "code",
   "execution_count": 13,
   "metadata": {},
   "outputs": [
    {
     "name": "stdout",
     "output_type": "stream",
     "text": [
      "      Human Resources  Research & Development  Sales  Female  Male  \\\n",
      "0                 0.0                     0.0    1.0     1.0   0.0   \n",
      "1                 0.0                     1.0    0.0     0.0   1.0   \n",
      "2                 0.0                     1.0    0.0     0.0   1.0   \n",
      "3                 0.0                     1.0    0.0     1.0   0.0   \n",
      "4                 0.0                     1.0    0.0     0.0   1.0   \n",
      "...               ...                     ...    ...     ...   ...   \n",
      "1465              0.0                     1.0    0.0     0.0   1.0   \n",
      "1466              0.0                     1.0    0.0     0.0   1.0   \n",
      "1467              0.0                     1.0    0.0     0.0   1.0   \n",
      "1468              0.0                     0.0    1.0     0.0   1.0   \n",
      "1469              0.0                     1.0    0.0     0.0   1.0   \n",
      "\n",
      "      Healthcare Representative  Human Resources  Laboratory Technician  \\\n",
      "0                           0.0              0.0                    0.0   \n",
      "1                           0.0              0.0                    0.0   \n",
      "2                           0.0              0.0                    1.0   \n",
      "3                           0.0              0.0                    0.0   \n",
      "4                           0.0              0.0                    1.0   \n",
      "...                         ...              ...                    ...   \n",
      "1465                        0.0              0.0                    1.0   \n",
      "1466                        1.0              0.0                    0.0   \n",
      "1467                        0.0              0.0                    0.0   \n",
      "1468                        0.0              0.0                    0.0   \n",
      "1469                        0.0              0.0                    1.0   \n",
      "\n",
      "      Manager  Manufacturing Director  Research Director  Research Scientist  \\\n",
      "0         0.0                     0.0                0.0                 0.0   \n",
      "1         0.0                     0.0                0.0                 1.0   \n",
      "2         0.0                     0.0                0.0                 0.0   \n",
      "3         0.0                     0.0                0.0                 1.0   \n",
      "4         0.0                     0.0                0.0                 0.0   \n",
      "...       ...                     ...                ...                 ...   \n",
      "1465      0.0                     0.0                0.0                 0.0   \n",
      "1466      0.0                     0.0                0.0                 0.0   \n",
      "1467      0.0                     1.0                0.0                 0.0   \n",
      "1468      0.0                     0.0                0.0                 0.0   \n",
      "1469      0.0                     0.0                0.0                 0.0   \n",
      "\n",
      "      Sales Executive  Sales Representative  Divorced  Married  Single  \n",
      "0                 1.0                   0.0       0.0      0.0     1.0  \n",
      "1                 0.0                   0.0       0.0      1.0     0.0  \n",
      "2                 0.0                   0.0       0.0      0.0     1.0  \n",
      "3                 0.0                   0.0       0.0      1.0     0.0  \n",
      "4                 0.0                   0.0       0.0      1.0     0.0  \n",
      "...               ...                   ...       ...      ...     ...  \n",
      "1465              0.0                   0.0       0.0      1.0     0.0  \n",
      "1466              0.0                   0.0       0.0      1.0     0.0  \n",
      "1467              0.0                   0.0       0.0      1.0     0.0  \n",
      "1468              1.0                   0.0       0.0      1.0     0.0  \n",
      "1469              0.0                   0.0       0.0      1.0     0.0  \n",
      "\n",
      "[1470 rows x 17 columns]\n"
     ]
    }
   ],
   "source": [
    "label_dataframes = pd.concat([department_ohe, gender_ohe, jobrole_ohe, MaritalStatus_ohe ], axis = 1)\n",
    "print(label_dataframes)"
   ]
  },
  {
   "cell_type": "code",
   "execution_count": 14,
   "metadata": {},
   "outputs": [
    {
     "name": "stdout",
     "output_type": "stream",
     "text": [
      "      Age  DailyRate  DistanceFromHome  Education  EnvironmentSatisfaction  \\\n",
      "0      41       1102                 1          2                        2   \n",
      "1      49        279                 8          1                        3   \n",
      "2      37       1373                 2          2                        4   \n",
      "3      33       1392                 3          4                        4   \n",
      "4      27        591                 2          1                        1   \n",
      "...   ...        ...               ...        ...                      ...   \n",
      "1465   36        884                23          2                        3   \n",
      "1466   39        613                 6          1                        4   \n",
      "1467   27        155                 4          3                        2   \n",
      "1468   49       1023                 2          3                        4   \n",
      "1469   34        628                 8          3                        2   \n",
      "\n",
      "      HourlyRate  JobInvolvement  JobLevel  JobSatisfaction  MonthlyIncome  \\\n",
      "0             94               3         2                4           5993   \n",
      "1             61               2         2                2           5130   \n",
      "2             92               2         1                3           2090   \n",
      "3             56               3         1                3           2909   \n",
      "4             40               3         1                2           3468   \n",
      "...          ...             ...       ...              ...            ...   \n",
      "1465          41               4         2                4           2571   \n",
      "1466          42               2         3                1           9991   \n",
      "1467          87               4         2                2           6142   \n",
      "1468          63               2         2                2           5390   \n",
      "1469          82               4         2                3           4404   \n",
      "\n",
      "      ...  StandardHours  TotalWorkingYears  TrainingTimesLastYear  \\\n",
      "0     ...             80                  8                      0   \n",
      "1     ...             80                 10                      3   \n",
      "2     ...             80                  7                      3   \n",
      "3     ...             80                  8                      3   \n",
      "4     ...             80                  6                      3   \n",
      "...   ...            ...                ...                    ...   \n",
      "1465  ...             80                 17                      3   \n",
      "1466  ...             80                  9                      5   \n",
      "1467  ...             80                  6                      0   \n",
      "1468  ...             80                 17                      3   \n",
      "1469  ...             80                  6                      3   \n",
      "\n",
      "      WorkLifeBalance  YearsAtCompany  YearsInCurrentRole  \\\n",
      "0                   1               6                   4   \n",
      "1                   3              10                   7   \n",
      "2                   3               0                   0   \n",
      "3                   3               8                   7   \n",
      "4                   3               2                   2   \n",
      "...               ...             ...                 ...   \n",
      "1465                3               5                   2   \n",
      "1466                3               7                   7   \n",
      "1467                3               6                   2   \n",
      "1468                2               9                   6   \n",
      "1469                4               4                   3   \n",
      "\n",
      "      YearsSinceLastPromotion  YearsWithCurrManager  Department_labels  \\\n",
      "0                           0                     5                  2   \n",
      "1                           1                     7                  1   \n",
      "2                           0                     0                  1   \n",
      "3                           3                     0                  1   \n",
      "4                           2                     2                  1   \n",
      "...                       ...                   ...                ...   \n",
      "1465                        0                     3                  1   \n",
      "1466                        1                     7                  1   \n",
      "1467                        0                     3                  1   \n",
      "1468                        0                     8                  2   \n",
      "1469                        1                     2                  1   \n",
      "\n",
      "      Gender_labels  \n",
      "0                 0  \n",
      "1                 1  \n",
      "2                 1  \n",
      "3                 0  \n",
      "4                 1  \n",
      "...             ...  \n",
      "1465              1  \n",
      "1466              1  \n",
      "1467              1  \n",
      "1468              1  \n",
      "1469              1  \n",
      "\n",
      "[1470 rows x 24 columns]\n"
     ]
    }
   ],
   "source": [
    "X = X.drop(['JobRole', 'Gender', 'Department', 'MaritalStatus' ],axis=1)\n",
    "print(X)"
   ]
  },
  {
   "cell_type": "code",
   "execution_count": 15,
   "metadata": {},
   "outputs": [],
   "source": [
    "from sklearn.model_selection import train_test_split\n",
    "\n",
    "# split data and labels into a training and a test set\n",
    "# running this again with the change in categorical variables -- getting an error for KNN's\n",
    "X_train, X_test, y_train, y_test = train_test_split(X, y, random_state=0)"
   ]
  },
  {
   "cell_type": "code",
   "execution_count": 17,
   "metadata": {},
   "outputs": [],
   "source": [
    "%matplotlib inline\n",
    "import matplotlib.pyplot as plt\n",
    "import numpy as np\n",
    "import mglearn\n",
    "from sklearn.neighbors import KNeighborsClassifier\n",
    "from sklearn.model_selection import train_test_split\n",
    "from sklearn.model_selection import cross_val_score\n",
    "\n",
    "import warnings\n",
    "warnings.filterwarnings('ignore')"
   ]
  },
  {
   "cell_type": "code",
   "execution_count": 18,
   "metadata": {},
   "outputs": [
    {
     "data": {
      "text/plain": [
       "<matplotlib.legend.Legend at 0x26e192bcac8>"
      ]
     },
     "execution_count": 18,
     "metadata": {},
     "output_type": "execute_result"
    },
    {
     "data": {
      "image/png": "[encoded data removed]",
      "text/plain": [
       "<Figure size 432x288 with 1 Axes>"
      ]
     },
     "metadata": {
      "needs_background": "light"
     },
     "output_type": "display_data"
    }
   ],
   "source": [
    "# Step 4 Step 4: Selected two of the following supervised learning algorithms, \n",
    "#ideally one from the first half of the list and one from the second half of the list, I did 3 to experiment\n",
    "training_accuracy = []\n",
    "test_accuracy = []\n",
    "# try n_neighbors from 1 to 10\n",
    "neighbors_settings = range(1, 11)\n",
    "\n",
    "for n_neighbors in neighbors_settings:\n",
    "    # build the model\n",
    "    knn = KNeighborsClassifier(n_neighbors=n_neighbors,metric='manhattan')\n",
    "    knn.fit(X_train, y_train)\n",
    "    # record training set accuracy\n",
    "    training_accuracy.append(knn.score(X_train, y_train))\n",
    "    # record generalization accuracy\n",
    "    test_accuracy.append(knn.score(X_test, y_test))\n",
    "    \n",
    "plt.plot(neighbors_settings, training_accuracy, label=\"training accuracy\")\n",
    "plt.plot(neighbors_settings, test_accuracy, label=\"test accuracy\")\n",
    "plt.ylabel(\"Accuracy\")\n",
    "plt.xlabel(\"n_neighbors\")\n",
    "plt.legend()"
   ]
  },
  {
   "cell_type": "code",
   "execution_count": 19,
   "metadata": {},
   "outputs": [
    {
     "name": "stdout",
     "output_type": "stream",
     "text": [
      "knn score: 0.8620689655172413\n"
     ]
    }
   ],
   "source": [
    "# https://scikit-learn.org/stable/modules/generated/sklearn.neighbors.KNeighborsClassifier.html#sklearn.neighbors.KNeighborsClassifier\n",
    "\n",
    "# k = 4 since that was the example\n",
    "knn = KNeighborsClassifier(n_neighbors=4)\n",
    "knn.fit(X_train, y_train)\n",
    "print(\"knn score: {}\".format(knn.score(X_train, y_train)))"
   ]
  },
  {
   "cell_type": "code",
   "execution_count": 53,
   "metadata": {},
   "outputs": [
    {
     "name": "stdout",
     "output_type": "stream",
     "text": [
      "knn score: 0.8460884353741497\n"
     ]
    }
   ],
   "source": [
    "# https://scikit-learn.org/stable/modules/generated/sklearn.neighbors.KNeighborsClassifier.html#sklearn.neighbors.KNeighborsClassifier\n",
    "\n",
    "# k = 4 since that was the example\n",
    "knn = KNeighborsClassifier(n_neighbors=10)\n",
    "knn.fit(X_train, y_train)\n",
    "print(\"knn score: {}\".format(knn.score(X_train, y_train)))"
   ]
  },
  {
   "cell_type": "code",
   "execution_count": 20,
   "metadata": {},
   "outputs": [
    {
     "name": "stdout",
     "output_type": "stream",
     "text": [
      "cv_scores:\n",
      "[0.81447964 0.83710407 0.85067873 0.82727273 0.81278539]\n",
      "cv_scores mean:\n",
      "0.828464111767899\n"
     ]
    }
   ],
   "source": [
    "# https://towardsdatascience.com/building-a-k-nearest-neighbors-k-nn-model-with-scikit-learn-51209555453a\n",
    "# Now, running a cross-val to get a validation set. This will help determine which KNN I should use\n",
    "\n",
    "from sklearn.model_selection import cross_val_score\n",
    "\n",
    "knn_cv = KNeighborsClassifier(n_neighbors=4)\n",
    "\n",
    "#5-fold cross validation\n",
    "cv_scores = cross_val_score(knn_cv, X_train, y_train, cv=5)\n",
    "\n",
    "print(\"cv_scores:\\n{}\".format(cv_scores))\n",
    "print(\"cv_scores mean:\\n{}\".format(np.mean(cv_scores)))"
   ]
  },
  {
   "cell_type": "code",
   "execution_count": 21,
   "metadata": {},
   "outputs": [
    {
     "data": {
      "text/plain": [
       "GridSearchCV(cv=5, error_score='raise-deprecating',\n",
       "             estimator=KNeighborsClassifier(algorithm='auto', leaf_size=30,\n",
       "                                            metric='minkowski',\n",
       "                                            metric_params=None, n_jobs=None,\n",
       "                                            n_neighbors=5, p=2,\n",
       "                                            weights='uniform'),\n",
       "             iid='warn', n_jobs=None,\n",
       "             param_grid={'n_neighbors': array([ 1,  2,  3,  4,  5,  6,  7,  8,  9, 10, 11, 12, 13, 14, 15, 16, 17,\n",
       "       18, 19, 20, 21, 22, 23, 24])},\n",
       "             pre_dispatch='2*n_jobs', refit=True, return_train_score=False,\n",
       "             scoring=None, verbose=0)"
      ]
     },
     "execution_count": 21,
     "metadata": {},
     "output_type": "execute_result"
    }
   ],
   "source": [
    "from sklearn.model_selection import GridSearchCV\n",
    "# grid search to see best parameters to use\n",
    "\n",
    "knn2 = KNeighborsClassifier()\n",
    "\n",
    "#dictionary of all values of k\n",
    "param_grid = {\"n_neighbors\": np.arange(1, 25)}\n",
    "\n",
    "#grid search on all values of k in dictionary\n",
    "knn_gscv = GridSearchCV(knn2, param_grid, cv=5)\n",
    "knn_gscv.fit(X_train, y_train)"
   ]
  },
  {
   "cell_type": "code",
   "execution_count": 22,
   "metadata": {},
   "outputs": [
    {
     "data": {
      "text/plain": [
       "GridSearchCV(cv=5, error_score='raise-deprecating',\n",
       "             estimator=KNeighborsClassifier(algorithm='auto', leaf_size=30,\n",
       "                                            metric='minkowski',\n",
       "                                            metric_params=None, n_jobs=None,\n",
       "                                            n_neighbors=5, p=2,\n",
       "                                            weights='uniform'),\n",
       "             iid='warn', n_jobs=None,\n",
       "             param_grid={'metric': ['manhattan', 'minkowski', 'euclidean'],\n",
       "                         'n_neighbors': array([ 1,  2,  3,  4,  5,  6,  7,  8,  9, 10, 11, 12, 13, 14, 15, 16, 17,\n",
       "       18, 19, 20, 21, 22, 23, 24]),\n",
       "                         'weights': ['uniform', 'distance']},\n",
       "             pre_dispatch='2*n_jobs', refit=True, return_train_score=False,\n",
       "             scoring=None, verbose=0)"
      ]
     },
     "execution_count": 22,
     "metadata": {},
     "output_type": "execute_result"
    }
   ],
   "source": [
    "from sklearn.model_selection import GridSearchCV\n",
    "\n",
    "knn2 = KNeighborsClassifier()\n",
    "\n",
    "#dictionary of all values of k\n",
    "param_grid = {\"n_neighbors\": np.arange(1, 25),\n",
    "             \"metric\": [\"manhattan\", \"minkowski\", \"euclidean\"],\n",
    "             \"weights\": [\"uniform\", \"distance\"]}\n",
    "# i want to see which parameters work best, so used above so I can tell which kind of metrics and weights \n",
    "\n",
    "#grid search on all values of k in dictionary\n",
    "knn_gscv = GridSearchCV(knn2, param_grid, cv=5)\n",
    "knn_gscv.fit(X_train, y_train)"
   ]
  },
  {
   "cell_type": "code",
   "execution_count": 23,
   "metadata": {},
   "outputs": [
    {
     "data": {
      "text/plain": [
       "{'metric': 'manhattan', 'n_neighbors': 20, 'weights': 'uniform'}"
      ]
     },
     "execution_count": 23,
     "metadata": {},
     "output_type": "execute_result"
    }
   ],
   "source": [
    "#best performing k (on training set)\n",
    "#also bset metric, and weights, which is uniform \n",
    "knn_gscv.best_params_"
   ]
  },
  {
   "cell_type": "code",
   "execution_count": 24,
   "metadata": {},
   "outputs": [
    {
     "data": {
      "text/plain": [
       "0.8393829401088929"
      ]
     },
     "execution_count": 24,
     "metadata": {},
     "output_type": "execute_result"
    }
   ],
   "source": [
    "#accuracy of best performing k\n",
    "knn_gscv.best_score_"
   ]
  },
  {
   "cell_type": "code",
   "execution_count": 25,
   "metadata": {},
   "outputs": [
    {
     "name": "stdout",
     "output_type": "stream",
     "text": [
      "Confusion matrix:\n",
      "[[310   0]\n",
      " [ 58   0]]\n"
     ]
    }
   ],
   "source": [
    "knn20 = KNeighborsClassifier(n_neighbors=20)\n",
    "knn20.fit(X_train, y_train)\n",
    "# using 20 neighbors \n",
    "\n",
    "from sklearn.metrics import confusion_matrix\n",
    "confusion = confusion_matrix(y_test, knn20.predict(X_test))\n",
    "print(\"Confusion matrix:\\n{}\".format(confusion))"
   ]
  },
  {
   "cell_type": "code",
   "execution_count": 26,
   "metadata": {},
   "outputs": [
    {
     "name": "stdout",
     "output_type": "stream",
     "text": [
      "Confusion matrix:\n",
      "[[306   4]\n",
      " [ 57   1]]\n"
     ]
    }
   ],
   "source": [
    "knn10 = KNeighborsClassifier(n_neighbors=10)\n",
    "knn10.fit(X_train, y_train)\n",
    "\n",
    "# running the confusion matrix again to see what it would look like with 10 neighbors \n",
    "\n",
    "from sklearn.metrics import confusion_matrix\n",
    "confusion = confusion_matrix(y_test, knn10.predict(X_test))\n",
    "print(\"Confusion matrix:\\n{}\".format(confusion))"
   ]
  },
  {
   "cell_type": "code",
   "execution_count": 27,
   "metadata": {
    "scrolled": true
   },
   "outputs": [
    {
     "name": "stdout",
     "output_type": "stream",
     "text": [
      "              precision    recall  f1-score   support\n",
      "\n",
      "         Yes       0.84      0.99      0.91       310\n",
      "          No       0.20      0.02      0.03        58\n",
      "\n",
      "    accuracy                           0.83       368\n",
      "   macro avg       0.52      0.50      0.47       368\n",
      "weighted avg       0.74      0.83      0.77       368\n",
      "\n"
     ]
    }
   ],
   "source": [
    "# Step 5: For each of your selected models\n",
    "\n",
    "#Run with the default parameters using cross-validation\n",
    "#Calculate precision, recall, and F1 for classification\n",
    "#Calculate r2, RMSE, and MAE for regression\n",
    "#Where possible adjust 2-3 parameters for each model\n",
    "#Report evaluation metrics for the best and worst-performing parameter settings\n",
    "from sklearn.metrics import classification_report\n",
    "print(classification_report(y_test, knn10.predict(X_test),\n",
    "                             target_names=[\"Yes\", \"No\"]))\n",
    "                           "
   ]
  },
  {
   "cell_type": "code",
   "execution_count": 28,
   "metadata": {},
   "outputs": [
    {
     "name": "stdout",
     "output_type": "stream",
     "text": [
      "              precision    recall  f1-score   support\n",
      "\n",
      "         Yes       0.84      1.00      0.91       310\n",
      "          No       0.00      0.00      0.00        58\n",
      "\n",
      "    accuracy                           0.84       368\n",
      "   macro avg       0.42      0.50      0.46       368\n",
      "weighted avg       0.71      0.84      0.77       368\n",
      "\n"
     ]
    }
   ],
   "source": [
    "#test with 20 \n",
    "from sklearn.metrics import classification_report\n",
    "print(classification_report(y_test, knn20.predict(X_test),\n",
    "                             target_names=[\"Yes\", \"No\"]))"
   ]
  },
  {
   "cell_type": "code",
   "execution_count": 30,
   "metadata": {},
   "outputs": [],
   "source": [
    "#step 4 but with SVC this time for a more complex model \n",
    "from sklearn.svm import SVC\n",
    "from sklearn.model_selection import StratifiedShuffleSplit\n",
    "\n",
    "split = StratifiedShuffleSplit(n_splits=1, test_size=0.2, random_state=42)\n",
    "for train_index, test_index in split.split(X, y):\n",
    "    X_train = X.iloc[train_index]\n",
    "    X_test = X.iloc[test_index]\n",
    "    y_train = y[train_index]\n",
    "    y_test = y[test_index]"
   ]
  },
  {
   "cell_type": "code",
   "execution_count": 31,
   "metadata": {},
   "outputs": [
    {
     "name": "stdout",
     "output_type": "stream",
     "text": [
      "Accuracy on training set: 1.00\n",
      "Accuracy on test set: 0.84\n"
     ]
    }
   ],
   "source": [
    "# radial basis function kernel\n",
    "svmRBF1 = SVC(kernel='rbf', C=10, gamma=0.1).fit(X_train, y_train)\n",
    "\n",
    "print(\"Accuracy on training set: {:.2f}\".format(svmRBF1.score(X_train, y_train)))\n",
    "print(\"Accuracy on test set: {:.2f}\".format(svmRBF1.score(X_test, y_test)))"
   ]
  },
  {
   "cell_type": "code",
   "execution_count": 32,
   "metadata": {},
   "outputs": [
    {
     "name": "stdout",
     "output_type": "stream",
     "text": [
      "Accuracy on training set: 1.00\n",
      "Accuracy on test set: 0.84\n"
     ]
    }
   ],
   "source": [
    "# no kernal, it would not run with poly\n",
    "svmPoly1 = SVC(C=10).fit(X_train, y_train)\n",
    "\n",
    "print(\"Accuracy on training set: {:.2f}\".format(svmPoly1.score(X_train, y_train)))\n",
    "print(\"Accuracy on test set: {:.2f}\".format(svmPoly1.score(X_test, y_test)))"
   ]
  },
  {
   "cell_type": "code",
   "execution_count": 33,
   "metadata": {},
   "outputs": [
    {
     "name": "stdout",
     "output_type": "stream",
     "text": [
      "Accuracy on training set: 1.00\n",
      "Accuracy on test set: 0.84\n"
     ]
    }
   ],
   "source": [
    "# no kernal, it would not run with poly, this onehas a bigger C. the following cells just test out different C's and gamma's\n",
    "# before the grid search\n",
    "svmPoly1 = SVC(C=100).fit(X_train, y_train)\n",
    "\n",
    "print(\"Accuracy on training set: {:.2f}\".format(svmPoly1.score(X_train, y_train)))\n",
    "print(\"Accuracy on test set: {:.2f}\".format(svmPoly1.score(X_test, y_test)))"
   ]
  },
  {
   "cell_type": "code",
   "execution_count": 34,
   "metadata": {},
   "outputs": [
    {
     "name": "stdout",
     "output_type": "stream",
     "text": [
      "Accuracy on training set: 0.84\n",
      "Accuracy on test set: 0.84\n"
     ]
    }
   ],
   "source": [
    "\n",
    "# constrained model (low C and low gamma)\n",
    "svmRBF2 = SVC(kernel='rbf', C=0.1).fit(X_train, y_train)\n",
    "\n",
    "print(\"Accuracy on training set: {:.2f}\".format(svmRBF2.score(X_train, y_train)))\n",
    "print(\"Accuracy on test set: {:.2f}\".format(svmRBF2.score(X_test, y_test)))"
   ]
  },
  {
   "cell_type": "code",
   "execution_count": 35,
   "metadata": {},
   "outputs": [
    {
     "name": "stdout",
     "output_type": "stream",
     "text": [
      "Accuracy on training set: 1.00\n",
      "Accuracy on test set: 0.84\n"
     ]
    }
   ],
   "source": [
    "\n",
    "# constrained model (low C and low gamma)\n",
    "svmRBF3 = SVC(kernel='rbf', C=1000, gamma=10).fit(X_train, y_train)\n",
    "\n",
    "print(\"Accuracy on training set: {:.2f}\".format(svmRBF3.score(X_train, y_train)))\n",
    "print(\"Accuracy on test set: {:.2f}\".format(svmRBF3.score(X_test, y_test)))"
   ]
  },
  {
   "cell_type": "code",
   "execution_count": 36,
   "metadata": {},
   "outputs": [],
   "source": [
    "from sklearn.model_selection import StratifiedShuffleSplit\n",
    "cv = StratifiedShuffleSplit(n_splits=5, test_size=0.2, random_state=42)"
   ]
  },
  {
   "cell_type": "code",
   "execution_count": 37,
   "metadata": {},
   "outputs": [
    {
     "name": "stdout",
     "output_type": "stream",
     "text": [
      "Accuracy on training set: 1.00\n",
      "Accuracy on test set: 0.84\n"
     ]
    }
   ],
   "source": [
    "svmRBFgrid = SVC(kernel='rbf', C=1, gamma=0.1).fit(X_train, y_train)\n",
    "\n",
    "print(\"Accuracy on training set: {:.2f}\".format(svmRBFgrid.score(X_train, y_train)))\n",
    "print(\"Accuracy on test set: {:.2f}\".format(svmRBFgrid.score(X_test, y_test)))"
   ]
  },
  {
   "cell_type": "code",
   "execution_count": 46,
   "metadata": {},
   "outputs": [],
   "source": [
    "import numpy as np\n",
    "#estimator.get_params().keys()\n",
    "\n",
    "#estimator.get_params().keys()\n",
    "#param_grid\n",
    "# param_grid = {\"n_neighbors\": np.arange(1, 25),\n",
    "             #\"metric\": [\"manhattan\", \"minkowski\", \"euclidean\"],\n",
    "             #\"weights\": [\"uniform\", \"distance\"]}\n",
    "from sklearn.model_selection import GridSearchCV\n",
    "C_range = np.logspace(-2, 10, 2)\n",
    "gamma_range = np.logspace(-9, 3, 2)\n",
    "param_grid = dict(gamma=gamma_range, C=C_range)\n",
    "#AHH this is the prob?"
   ]
  },
  {
   "cell_type": "code",
   "execution_count": 47,
   "metadata": {},
   "outputs": [
    {
     "data": {
      "text/plain": [
       "array([1.e-02, 1.e+10])"
      ]
     },
     "execution_count": 47,
     "metadata": {},
     "output_type": "execute_result"
    }
   ],
   "source": [
    "C_range"
   ]
  },
  {
   "cell_type": "code",
   "execution_count": 48,
   "metadata": {},
   "outputs": [
    {
     "name": "stdout",
     "output_type": "stream",
     "text": [
      "Fitting 2 folds for each of 4 candidates, totalling 8 fits\n"
     ]
    },
    {
     "name": "stderr",
     "output_type": "stream",
     "text": [
      "[Parallel(n_jobs=-1)]: Using backend LokyBackend with 4 concurrent workers.\n"
     ]
    },
    {
     "name": "stdout",
     "output_type": "stream",
     "text": [
      "The best parameters are {'C': 0.01, 'gamma': 1e-09} with a score of 0.84\n"
     ]
    },
    {
     "name": "stderr",
     "output_type": "stream",
     "text": [
      "[Parallel(n_jobs=-1)]: Done   8 out of   8 | elapsed:   25.5s finished\n"
     ]
    }
   ],
   "source": [
    "from sklearn.model_selection import GridSearchCV\n",
    "from sklearn.model_selection import StratifiedShuffleSplit\n",
    "\n",
    "# I had to do a LOT to get this to work! I switched around the logspace above for both c range and gamma.Having \n",
    "# two folds worked way better than having 125 fits. I also made the n_split smaller to have less fits  \n",
    "\n",
    "cv = StratifiedShuffleSplit(n_splits=2, test_size=0.2, random_state=42)\n",
    "#rbf kernel\n",
    "gridRBF = GridSearchCV(SVC(kernel='rbf'), param_grid=param_grid, cv=cv, verbose=True, n_jobs = -1)\n",
    "gridRBF.fit(X_train, y_train)\n",
    "\n",
    "print(\"The best parameters are %s with a score of %0.2f\"\n",
    "      % (gridRBF.best_params_, gridRBF.best_score_))"
   ]
  },
  {
   "cell_type": "code",
   "execution_count": 50,
   "metadata": {},
   "outputs": [
    {
     "data": {
      "text/plain": [
       "float"
      ]
     },
     "execution_count": 50,
     "metadata": {},
     "output_type": "execute_result"
    }
   ],
   "source": [
    "type(1e-09)"
   ]
  },
  {
   "cell_type": "code",
   "execution_count": 51,
   "metadata": {},
   "outputs": [
    {
     "name": "stdout",
     "output_type": "stream",
     "text": [
      "Accuracy on training set: 0.84\n",
      "Accuracy on test set: 0.84\n"
     ]
    }
   ],
   "source": [
    "svmRBFgrid = SVC(kernel='rbf', C=.01, gamma=1e-09).fit(X_train, y_train)\n",
    "\n",
    "print(\"Accuracy on training set: {:.2f}\".format(svmRBFgrid.score(X_train, y_train)))\n",
    "print(\"Accuracy on test set: {:.2f}\".format(svmRBFgrid.score(X_test, y_test)))"
   ]
  },
  {
   "cell_type": "code",
   "execution_count": 52,
   "metadata": {},
   "outputs": [
    {
     "name": "stdout",
     "output_type": "stream",
     "text": [
      "              precision    recall  f1-score   support\n",
      "\n",
      "         Yes       0.84      1.00      0.91       247\n",
      "          No       0.00      0.00      0.00        47\n",
      "\n",
      "    accuracy                           0.84       294\n",
      "   macro avg       0.42      0.50      0.46       294\n",
      "weighted avg       0.71      0.84      0.77       294\n",
      "\n"
     ]
    }
   ],
   "source": [
    "#test for SVC \n",
    "# Step 5: For each of your selected models\n",
    "\n",
    "#Run with the default parameters using cross-validation\n",
    "#Calculate precision, recall, and F1 for classification\n",
    "#Calculate r2, RMSE, and MAE for regression\n",
    "#Where possible adjust 2-3 parameters for each model\n",
    "#Report evaluation metrics for the best and worst-performing parameter settings\n",
    "# PROJECT ENDS WITH THIS CELL!\n",
    "from sklearn.metrics import classification_report\n",
    "print(classification_report(y_test, svmRBFgrid.predict(X_test),\n",
    "                             target_names=[\"Yes\", \"No\"]))"
   ]
  },
  {
   "cell_type": "code",
   "execution_count": null,
   "metadata": {},
   "outputs": [],
   "source": [
    "knn2 = KNeighborsClassifier()\n",
    "\n",
    "#dictionary of all values of k\n",
    "param_grid = {\"n_neighbors\": np.arange(1, 25),\n",
    "             \"metric\": [\"manhattan\", \"minkowski\", \"euclidean\"],\n",
    "             \"weights\": [\"uniform\", \"distance\"]}\n",
    "# i want to see which parameters work best, so used above so I can tell which kind of metrics and weights \n",
    "\n",
    "#grid search on all values of k in dictionary\n",
    "knn_gscv = GridSearchCV(knn2, param_grid, cv=5)\n",
    "knn_gscv.fit(X_train, y_train)"
   ]
  },
  {
   "cell_type": "code",
   "execution_count": null,
   "metadata": {},
   "outputs": [],
   "source": [
    "# I know this won't work, but wanted to see the code to practice since it is not linear\n",
    "#everything after this is practice!! including logistic reg.\n",
    "from sklearn.metrics import r2_score\n",
    "print(r2_score(X_train, y_train))\n",
    "from sklearn.metrics import mean_squared_error\n",
    "from sklearn.metrics import mean_absolute_error\n"
   ]
  },
  {
   "cell_type": "code",
   "execution_count": null,
   "metadata": {},
   "outputs": [],
   "source": [
    "from sklearn.model_selection import GridSearchCV\n",
    "\n",
    "from sklearn.linear_model import LogisticRegression \n",
    "                                        \n",
    "\n",
    "log_reg = LogisticRegression(penalty=\"l1\", \n",
    "                                        dual=False, \n",
    "                                        tol=0.0001, \n",
    "                                        C=0.5, \n",
    "                                        fit_intercept=True, \n",
    "                                        intercept_scaling=1, \n",
    "                                        class_weight=None, \n",
    "                                        random_state=None, \n",
    "                                        solver='lbfgs', \n",
    "                                        max_iter=100, \n",
    "                                        multi_class='auto', \n",
    "                                        verbose=0, \n",
    "                                        warm_start=False, \n",
    "                                        n_jobs=None, l1_ratio=None)\n",
    "\n",
    "\n",
    "\n",
    "#knn2 = KNeighborsClassifier()\n",
    "\n",
    "#dictionary of all values of k\n",
    "#param_grid = {\"n_neighbors\": np.arange(1, 25),\n",
    " #            \"metric\": [\"manhattan\", \"minkowski\", \"euclidean\"],\n",
    "  #           \"weights\": [\"uniform\", \"distance\"]}\n",
    "\n",
    "#grid search on all values of k in dictionary\n",
    "#knn_gscv = GridSearchCV(knn2, param_grid, cv=5)\n",
    "#knn_gscv.fit(X_train, y_train)"
   ]
  },
  {
   "cell_type": "code",
   "execution_count": null,
   "metadata": {},
   "outputs": [],
   "source": [
    "#log_reg_gscv.best_params_\n",
    "#knn_gscv = GridSearchCV(knn2, param_grid, cv=5)\n",
    "#knn_gscv.fit(X_train, y_train)"
   ]
  },
  {
   "cell_type": "code",
   "execution_count": null,
   "metadata": {},
   "outputs": [],
   "source": [
    "#https://scikit-learn.org/stable/modules/generated/sklearn.linear_model.LogisticRegression.html\n",
    "# logistic regression\n",
    "from sklearn.linear_model import LogisticRegression\n",
    "\n",
    "logreg = LogisticRegression().fit(X_train, y_train)\n",
    "print(\"Training set score: {:.3f}\".format(logreg.score(X_train, y_train)))\n",
    "print(\"Test set score: {:.3f}\".format(logreg.score(X_test, y_test)))"
   ]
  },
  {
   "cell_type": "code",
   "execution_count": null,
   "metadata": {},
   "outputs": [],
   "source": [
    "logreg100 = LogisticRegression(C=100).fit(X_train, y_train)\n",
    "print(\"Training set score: {:.3f}\".format(logreg100.score(X_train, y_train)))\n",
    "print(\"Test set score: {:.3f}\".format(logreg100.score(X_test, y_test)))"
   ]
  },
  {
   "cell_type": "code",
   "execution_count": null,
   "metadata": {},
   "outputs": [],
   "source": [
    "logreg001 = LogisticRegression(C=0.01).fit(X_train, y_train)\n",
    "print(\"Training set score: {:.3f}\".format(logreg001.score(X_train, y_train)))\n",
    "print(\"Test set score: {:.3f}\".format(logreg001.score(X_test, y_test)))"
   ]
  },
  {
   "cell_type": "code",
   "execution_count": null,
   "metadata": {},
   "outputs": [],
   "source": [
    "for C, marker in zip([0.001, 1, 100], ['o', '^', 'v']):\n",
    "    lr_l1 = LogisticRegression(C=C, solver='liblinear', penalty=\"l1\").fit(X_train, y_train)\n",
    "    print(\"Training accuracy of logreg with C={:.3f}: {:.2f}\".format(\n",
    "          C, lr_l1.score(X_train, y_train)))\n",
    "    print(\"Test accuracy of logreg with C={:.3f}: {:.2f}\".format(\n",
    "          C, lr_l1.score(X_test, y_test)))"
   ]
  },
  {
   "cell_type": "code",
   "execution_count": null,
   "metadata": {},
   "outputs": [],
   "source": [
    "# Step 5: For each of your selected models\n",
    "\n",
    "#Run with the default parameters using cross-validation\n",
    "#Calculate precision, recall, and F1 for classification\n",
    "#Calculate r2, RMSE, and MAE for regression\n",
    "#Where possible adjust 2-3 parameters for each model\n",
    "#Report evaluation metrics for the best and worst-performing parameter settings\n",
    "from sklearn.metrics import classification_report\n",
    "print(classification_report(y_test, logreg.predict(X_test),\n",
    "                             target_names=[\"Yes\", \"No\"]))"
   ]
  }
 ],
 "metadata": {
  "kernelspec": {
   "display_name": "Python 3",
   "language": "python",
   "name": "python3"
  },
  "language_info": {
   "codemirror_mode": {
    "name": "ipython",
    "version": 3
   },
   "file_extension": ".py",
   "mimetype": "text/x-python",
   "name": "python",
   "nbconvert_exporter": "python",
   "pygments_lexer": "ipython3",
   "version": "3.7.4"
  }
 },
 "nbformat": 4,
 "nbformat_minor": 2
}
